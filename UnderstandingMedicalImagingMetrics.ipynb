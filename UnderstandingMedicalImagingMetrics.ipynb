{
  "nbformat": 4,
  "nbformat_minor": 0,
  "metadata": {
    "colab": {
      "name": "UnderstandingMedicalImagingMetrics.ipynb",
      "provenance": [],
      "collapsed_sections": [],
      "include_colab_link": true
    },
    "kernelspec": {
      "name": "python3",
      "display_name": "Python 3"
    }
  },
  "cells": [
    {
      "cell_type": "markdown",
      "metadata": {
        "id": "view-in-github",
        "colab_type": "text"
      },
      "source": [
        "<a href=\"https://colab.research.google.com/github/Anmola09/anmolaggarwal.github.io/blob/master/UnderstandingMedicalImagingMetrics.ipynb\" target=\"_parent\"><img src=\"https://colab.research.google.com/assets/colab-badge.svg\" alt=\"Open In Colab\"/></a>"
      ]
    },
    {
      "cell_type": "markdown",
      "metadata": {
        "id": "A_5noAffQiFu"
      },
      "source": [
        "# Understanding Metrics of Classification  \n"
      ]
    },
    {
      "cell_type": "markdown",
      "metadata": {
        "id": "ZEfpi-qnQhvI"
      },
      "source": [
        "In this notebook, we make a clear understanding of the different metrics used to determine the performance of any medical classifier. We will calculate different metrics and see what it represents.   \n",
        "We will calculate these metrics by defining our own functions, and also verify them by comparing with `scikit-learn's` library functions.   "
      ]
    },
    {
      "cell_type": "markdown",
      "metadata": {
        "id": "YjJmGxnbY9m9"
      },
      "source": [
        "Lets start with importing libraries we will need in this notebook."
      ]
    },
    {
      "cell_type": "markdown",
      "metadata": {
        "id": "eXSU_fk7RlEM"
      },
      "source": [
        "### Importing libraries"
      ]
    },
    {
      "cell_type": "code",
      "metadata": {
        "id": "Sx4KZX7cF8Yd"
      },
      "source": [
        "import numpy as np\n",
        "import pandas as pd\n",
        "from sklearn.datasets import load_breast_cancer\n",
        "from sklearn.model_selection import train_test_split\n",
        "from sklearn import svm\n",
        "from sklearn import metrics\n",
        "import matplotlib.pyplot as plt\n",
        "import seaborn as sns\n",
        "import itertools\n",
        "\n",
        "np.random.seed(42)  # for reproducibility\n",
        "sns.set(rc={\"figure.figsize\": (8, 8)})\n",
        "sns.set_style(\"ticks\")"
      ],
      "execution_count": 1,
      "outputs": []
    },
    {
      "cell_type": "markdown",
      "metadata": {
        "id": "0pddJrEbRtbr"
      },
      "source": [
        "### Dataset\n",
        "For comparing different metrics, we will use the [Breast Cancer Dataset](https://goo.gl/U2Uwz2) which is provided by sckit-learn in `dataset` module. This dataset is used for binary classification between two types of cancer."
      ]
    },
    {
      "cell_type": "code",
      "metadata": {
        "id": "glPEglrYGV6f",
        "outputId": "a0ac1aa7-226c-4d9c-8fe1-dc25f7bc3594",
        "colab": {
          "base_uri": "https://localhost:8080/",
          "height": 386
        }
      },
      "source": [
        "data = load_breast_cancer()\n",
        "print(data.DESCR[:760])  # print short description"
      ],
      "execution_count": 2,
      "outputs": [
        {
          "output_type": "stream",
          "text": [
            ".. _breast_cancer_dataset:\n",
            "\n",
            "Breast cancer wisconsin (diagnostic) dataset\n",
            "--------------------------------------------\n",
            "\n",
            "**Data Set Characteristics:**\n",
            "\n",
            "    :Number of Instances: 569\n",
            "\n",
            "    :Number of Attributes: 30 numeric, predictive attributes and the class\n",
            "\n",
            "    :Attribute Information:\n",
            "        - radius (mean of distances from center to points on the perimeter)\n",
            "        - texture (standard deviation of gray-scale values)\n",
            "        - perimeter\n",
            "        - area\n",
            "        - smoothness (local variation in radius lengths)\n",
            "        - compactness (perimeter^2 / area - 1.0)\n",
            "        - concavity (severity of concave portions of the contour)\n",
            "        - concave points (number of concave portions of the contour)\n",
            "        - symmetry \n",
            "        - fractal dimension (\"coastline app\n"
          ],
          "name": "stdout"
        }
      ]
    },
    {
      "cell_type": "markdown",
      "metadata": {
        "id": "XQyaWAlhSTLL"
      },
      "source": [
        "Let's see what are the targets classes i.e. types of cancer."
      ]
    },
    {
      "cell_type": "code",
      "metadata": {
        "id": "bStQWeSOSSp2",
        "outputId": "22b94793-fb42-418e-8c14-3f461c520d35",
        "colab": {
          "base_uri": "https://localhost:8080/",
          "height": 34
        }
      },
      "source": [
        "print(f\"Types of cancer (targets) are {data.target_names}\")"
      ],
      "execution_count": 3,
      "outputs": [
        {
          "output_type": "stream",
          "text": [
            "Types of cancer (targets) are ['malignant' 'benign']\n"
          ],
          "name": "stdout"
        }
      ]
    },
    {
      "cell_type": "markdown",
      "metadata": {
        "id": "JizLx4ZfSZ-y"
      },
      "source": [
        "What is the dimension of data?  We see there are **569 examples** and each example has **30 features**.  \n",
        "The **target** variable is binary (**0 and 1** for `malignant` and `benign`).   \n",
        "We will consider `benign` as `positive` class, and `malignant` as `negative` class.  \n",
        "We can understand it as:  \n",
        "`0 for is_not_benign`  \n",
        "`1 for is_benign`"
      ]
    },
    {
      "cell_type": "code",
      "metadata": {
        "id": "xG-br8XcHXHC",
        "outputId": "19cd860f-89ff-483d-e1d1-6f12ab08b675",
        "colab": {
          "base_uri": "https://localhost:8080/",
          "height": 34
        }
      },
      "source": [
        "X = data.data  # features\n",
        "y = data.target  # labels\n",
        "print(f\"Shape of features is {X.shape}, and shape of target is {y.shape}\")"
      ],
      "execution_count": 4,
      "outputs": [
        {
          "output_type": "stream",
          "text": [
            "Shape of features is (569, 30), and shape of target is (569,)\n"
          ],
          "name": "stdout"
        }
      ]
    },
    {
      "cell_type": "markdown",
      "metadata": {
        "id": "zpdfCVt8TW5K"
      },
      "source": [
        "### Split the data\n",
        "Since we shouldn't train and test our model with the same dataset, it is always a good idea to split the data in three parts - train data, test data, and validation data.  \n",
        "We won't require validation data here.\n",
        "We split the dataset into training and testing data, with 369 examples for training, and 200 examples for testing."
      ]
    },
    {
      "cell_type": "code",
      "metadata": {
        "id": "QsgrNr2RINsN"
      },
      "source": [
        "X_train, X_test, y_train, y_test = train_test_split(X, y, test_size=200, random_state=42, stratify=y)"
      ],
      "execution_count": 5,
      "outputs": []
    },
    {
      "cell_type": "code",
      "metadata": {
        "id": "YAU7JsyNJhc-",
        "outputId": "8b5c9f83-30d6-4949-9e65-48c87dce9e2e",
        "colab": {
          "base_uri": "https://localhost:8080/",
          "height": 35
        }
      },
      "source": [
        "y_train[:10]"
      ],
      "execution_count": null,
      "outputs": [
        {
          "output_type": "execute_result",
          "data": {
            "text/plain": [
              "array([1, 1, 1, 1, 0, 1, 1, 1, 0, 1])"
            ]
          },
          "metadata": {
            "tags": []
          },
          "execution_count": 6
        }
      ]
    },
    {
      "cell_type": "markdown",
      "metadata": {
        "id": "DVCi5RMsJE-O"
      },
      "source": [
        "### Training and predicting data"
      ]
    },
    {
      "cell_type": "markdown",
      "metadata": {
        "id": "4iRqwJU-TmIt"
      },
      "source": [
        "In this example, we will use scikit's Support Vector Machines classifier to predict whether its a benign cancer.  \n",
        "`SVC` classifier is used from `sklearn.svm`. Ofcourse, we can try any of the other classifiers and compare accuracies."
      ]
    },
    {
      "cell_type": "code",
      "metadata": {
        "id": "4pKL5VoJKh8A"
      },
      "source": [
        "classifier = svm.SVC(kernel='linear', probability=True, verbose=True)"
      ],
      "execution_count": 6,
      "outputs": []
    },
    {
      "cell_type": "markdown",
      "metadata": {
        "id": "6DwkhGMyT2BJ"
      },
      "source": [
        "Next we fit/train the model on our _training dataset_. It trains quite fast since we are working with relatively small dataset."
      ]
    },
    {
      "cell_type": "code",
      "metadata": {
        "id": "1rj0E-XnLWaH",
        "outputId": "f8e4646b-1681-4e5d-e2db-ab58d0e0cc3e",
        "colab": {
          "base_uri": "https://localhost:8080/",
          "height": 84
        }
      },
      "source": [
        "classifier.fit(X_train, y_train)"
      ],
      "execution_count": 7,
      "outputs": [
        {
          "output_type": "stream",
          "text": [
            "[LibSVM]"
          ],
          "name": "stdout"
        },
        {
          "output_type": "execute_result",
          "data": {
            "text/plain": [
              "SVC(C=1.0, break_ties=False, cache_size=200, class_weight=None, coef0=0.0,\n",
              "    decision_function_shape='ovr', degree=3, gamma='scale', kernel='linear',\n",
              "    max_iter=-1, probability=True, random_state=None, shrinking=True, tol=0.001,\n",
              "    verbose=True)"
            ]
          },
          "metadata": {
            "tags": []
          },
          "execution_count": 7
        }
      ]
    },
    {
      "cell_type": "markdown",
      "metadata": {
        "id": "hZvqwrrAT6UV"
      },
      "source": [
        "Now save the prediction results both as probability and as classes.  \n",
        "**`y_preds`** is a **1D vector** of one of `{0, 1}` values, denoting predictions as malignant and benign, respectively.  \n",
        "**`y_proba`** is a **2D vector**, where for each example, it contains a vector of length 2,  \n",
        "`[prob. of malignant, prob. of benign]`"
      ]
    },
    {
      "cell_type": "code",
      "metadata": {
        "id": "1PdjKHbfT6AX"
      },
      "source": [
        "y_preds = classifier.predict(X_test)\n",
        "y_proba = classifier.predict_proba(X_test)"
      ],
      "execution_count": 8,
      "outputs": []
    },
    {
      "cell_type": "markdown",
      "metadata": {
        "id": "b-9Dsn3yGXx7"
      },
      "source": [
        "We need to reshape `y_proba` to a 1D vector denoting the probability of having  `benign` cancer."
      ]
    },
    {
      "cell_type": "code",
      "metadata": {
        "id": "To9oQknC19dh"
      },
      "source": [
        "y_proba = y_proba[:,1].reshape((y_proba.shape[0],))"
      ],
      "execution_count": 9,
      "outputs": []
    },
    {
      "cell_type": "code",
      "metadata": {
        "id": "J_VDguyUL7fu",
        "outputId": "505f6c6e-ba93-4baf-c82d-4696afebd606",
        "colab": {
          "base_uri": "https://localhost:8080/",
          "height": 67
        }
      },
      "source": [
        "y_proba[:5], y_preds[:5], y_test[:5]"
      ],
      "execution_count": 10,
      "outputs": [
        {
          "output_type": "execute_result",
          "data": {
            "text/plain": [
              "(array([0.99600796, 0.0948797 , 0.99998451, 0.96319115, 0.99999806]),\n",
              " array([1, 0, 1, 1, 1]),\n",
              " array([1, 0, 1, 1, 1]))"
            ]
          },
          "metadata": {
            "tags": []
          },
          "execution_count": 10
        }
      ]
    },
    {
      "cell_type": "markdown",
      "metadata": {
        "id": "QM2WA4_FJfgT"
      },
      "source": [
        "### Confusion Matrix"
      ]
    },
    {
      "cell_type": "markdown",
      "metadata": {
        "id": "HEtVeYiBUDvH"
      },
      "source": [
        "Let us calculate confusion matrix of the predictions. It is implemented in Scikit-learn's [`sklearn.metrics.confusion_matrix`](http://scikit-learn.org/stable/modules/generated/sklearn.metrics.confusion_matrix.html)."
      ]
    },
    {
      "cell_type": "code",
      "metadata": {
        "id": "gXSq_kfcN8U8",
        "outputId": "af464442-ec11-4db6-a6a3-28dd4c72a0de",
        "colab": {
          "base_uri": "https://localhost:8080/",
          "height": 50
        }
      },
      "source": [
        "conf = metrics.confusion_matrix(y_test, y_preds)\n",
        "conf"
      ],
      "execution_count": 11,
      "outputs": [
        {
          "output_type": "execute_result",
          "data": {
            "text/plain": [
              "array([[ 68,   7],\n",
              "       [  2, 123]])"
            ]
          },
          "metadata": {
            "tags": []
          },
          "execution_count": 11
        }
      ]
    },
    {
      "cell_type": "markdown",
      "metadata": {
        "id": "FISHOdmxqPXl"
      },
      "source": [
        "We can also implement our own confusion matrix.  Here's my implementation."
      ]
    },
    {
      "cell_type": "code",
      "metadata": {
        "id": "e1yDrh9AqZjB"
      },
      "source": [
        "def get_confusion_matrix(y_true, y_pred):\n",
        "    n_classes = len(np.unique(y_true))\n",
        "    conf = np.zeros((n_classes, n_classes))\n",
        "    for actual, pred in zip(y_true, y_pred):\n",
        "        conf[int(actual)][int(pred)] += 1\n",
        "    return conf.astype('int')"
      ],
      "execution_count": 12,
      "outputs": []
    },
    {
      "cell_type": "code",
      "metadata": {
        "id": "txQRtyAZrnbG",
        "outputId": "383a5706-117a-4b3a-dfed-3c04e22edfb7",
        "colab": {
          "base_uri": "https://localhost:8080/",
          "height": 50
        }
      },
      "source": [
        "conf = get_confusion_matrix(y_test, y_preds)\n",
        "conf"
      ],
      "execution_count": 13,
      "outputs": [
        {
          "output_type": "execute_result",
          "data": {
            "text/plain": [
              "array([[ 68,   7],\n",
              "       [  2, 123]])"
            ]
          },
          "metadata": {
            "tags": []
          },
          "execution_count": 13
        }
      ]
    },
    {
      "cell_type": "code",
      "metadata": {
        "id": "PiSZNOpnOeYu",
        "outputId": "de5978e2-5f05-46da-ea50-dcf5c288343b",
        "colab": {
          "base_uri": "https://localhost:8080/",
          "height": 331
        }
      },
      "source": [
        "classes = [0, 1]\n",
        "# plot confusion matrix\n",
        "plt.imshow(conf, interpolation='nearest', cmap=plt.cm.Greens)\n",
        "plt.title(\"Confusion Matrix\")\n",
        "plt.colorbar()\n",
        "tick_marks = np.arange(len(classes))\n",
        "plt.xticks(tick_marks, classes)\n",
        "plt.yticks(tick_marks, classes)\n",
        "\n",
        "fmt = 'd'\n",
        "thresh = conf.max() / 2.\n",
        "for i, j in itertools.product(range(conf.shape[0]), range(conf.shape[1])):\n",
        "    plt.text(j, i, format(conf[i, j], fmt),\n",
        "             horizontalalignment=\"center\",\n",
        "             color=\"white\" if conf[i, j] > thresh else \"black\")\n",
        "\n",
        "plt.tight_layout()\n",
        "plt.ylabel('True label')\n",
        "plt.xlabel('Predicted label')"
      ],
      "execution_count": 14,
      "outputs": [
        {
          "output_type": "execute_result",
          "data": {
            "text/plain": [
              "Text(0.5, 12.5, 'Predicted label')"
            ]
          },
          "metadata": {
            "tags": []
          },
          "execution_count": 14
        },
        {
          "output_type": "display_data",
          "data": {
            "image/png": "[encoded data removed]",
            "text/plain": [
              "<Figure size 432x288 with 2 Axes>"
            ]
          },
          "metadata": {
            "tags": [],
            "needs_background": "light"
          }
        }
      ]
    },
    {
      "cell_type": "markdown",
      "metadata": {
        "id": "v81eYMJ0UM29"
      },
      "source": [
        "From the confusion matrix, we can see the number of examples predicted correct by our classifier, for both classes seperately.  \n",
        "We can get the numbers of `True Positives, True Negatives, False Positives, and False Negatives` from this confusion matrix.   \n",
        "Lets store these terms in some variables."
      ]
    },
    {
      "cell_type": "code",
      "metadata": {
        "id": "gjTIQRccOr-A"
      },
      "source": [
        "# from the confusion matrix\n",
        "TP = true_pos = 123\n",
        "TN = true_neg = 68\n",
        "FP = false_pos = 7\n",
        "FN = false_neg = 2"
      ],
      "execution_count": 17,
      "outputs": []
    },
    {
      "cell_type": "markdown",
      "metadata": {
        "id": "USDonfT5Jpr2"
      },
      "source": [
        "### Some basic metrics"
      ]
    },
    {
      "cell_type": "markdown",
      "metadata": {
        "id": "X5dcb4jEPpDR"
      },
      "source": [
        "Now, we will calculate some basic metrics from these four values.  \n",
        "We will need a dictionary to store these metrics. Lets create a dictionary `results`."
      ]
    },
    {
      "cell_type": "code",
      "metadata": {
        "id": "wFE2EKmxV_Xx"
      },
      "source": [
        "results = {}"
      ],
      "execution_count": 18,
      "outputs": []
    },
    {
      "cell_type": "markdown",
      "metadata": {
        "id": "U6O_iUIHZqgj"
      },
      "source": [
        "#### Accuracy \n",
        "number of examples correctly predicted / total number of examples  \n",
        "![alt text](https://wikimedia.org/api/rest_v1/media/math/render/svg/c72ec21ef2505c2d376e96197637fc64f75e5891)"
      ]
    },
    {
      "cell_type": "code",
      "metadata": {
        "id": "4y3hcfI0WFfv",
        "outputId": "149023a1-1500-4daf-f09e-eca19db3b74a",
        "colab": {
          "base_uri": "https://localhost:8080/",
          "height": 34
        }
      },
      "source": [
        "metric = \"ACC\"\n",
        "results[metric] = (TP + TN) / (TP + TN + FP + FN)\n",
        "print(f\"{metric} is {results[metric]: .3f}\")"
      ],
      "execution_count": 19,
      "outputs": [
        {
          "output_type": "stream",
          "text": [
            "ACC is  0.955\n"
          ],
          "name": "stdout"
        }
      ]
    },
    {
      "cell_type": "markdown",
      "metadata": {
        "id": "vjmFM1v_Z_a8"
      },
      "source": [
        "#### True Positive Rate\n",
        "number of samples actually and predicted as  `Positive` / total number of samples actually `Positive`  \n",
        "Also called **Sensitivity or Recall**.  \n",
        "![alt text](https://wikimedia.org/api/rest_v1/media/math/render/svg/64d5540cbadeb83f864d7a731b7ab43cccd0f353)\n"
      ]
    },
    {
      "cell_type": "code",
      "metadata": {
        "id": "q8JoI-S6WKMS",
        "outputId": "3b77fdd1-641c-44f2-e10e-eb1aa700ba18",
        "colab": {
          "base_uri": "https://localhost:8080/",
          "height": 34
        }
      },
      "source": [
        "# Sensitivity or Recall\n",
        "metric = \"TPR\"\n",
        "results[metric] = TP / (TP + FN)\n",
        "print(f\"{metric} is {results[metric]: .3f}\")"
      ],
      "execution_count": 20,
      "outputs": [
        {
          "output_type": "stream",
          "text": [
            "TPR is  0.984\n"
          ],
          "name": "stdout"
        }
      ]
    },
    {
      "cell_type": "markdown",
      "metadata": {
        "id": "f6y1c1SDa0Lg"
      },
      "source": [
        "#### True Negative Rate\n",
        "number of samples actually and predicted as  `Negative` / total number of samples actually  `Negative`  \n",
        "Also called **Specificity**.  \n",
        "![alt text](https://wikimedia.org/api/rest_v1/media/math/render/svg/aac65b6586cb61c1268403895012c2a8f19b0c5e)\n"
      ]
    },
    {
      "cell_type": "code",
      "metadata": {
        "id": "rkRmDKjSYLYE",
        "outputId": "29faff06-05f7-4682-c1dc-01c763f315b6",
        "colab": {
          "base_uri": "https://localhost:8080/",
          "height": 34
        }
      },
      "source": [
        "# Specificity\n",
        "metric = \"TNR\"\n",
        "results[metric] = TN / (TN + FP)\n",
        "print(f\"{metric} is {results[metric]: .3f}\")"
      ],
      "execution_count": 21,
      "outputs": [
        {
          "output_type": "stream",
          "text": [
            "TNR is  0.907\n"
          ],
          "name": "stdout"
        }
      ]
    },
    {
      "cell_type": "markdown",
      "metadata": {
        "id": "qK7WCIlpbDis"
      },
      "source": [
        "#### Positive Predictive Value\n",
        "number of samples actually and predicted as  `Positive` / total number of samples predicted as `Positive`  \n",
        "Also called **Precision**.  \n",
        "![alt text](https://wikimedia.org/api/rest_v1/media/math/render/svg/699fcdb880b7f6a92742bc0845b8b60b59806a98)\n"
      ]
    },
    {
      "cell_type": "code",
      "metadata": {
        "id": "lNgS7UwfYce9",
        "outputId": "bff93e79-d477-41bf-fd44-381c7050b06f",
        "colab": {
          "base_uri": "https://localhost:8080/",
          "height": 35
        }
      },
      "source": [
        "# Precision\n",
        "metric = \"PPV\"\n",
        "results[metric] = TP / (TP + FP)\n",
        "print(f\"{metric} is {results[metric]: .3f}\")"
      ],
      "execution_count": null,
      "outputs": [
        {
          "output_type": "stream",
          "text": [
            "PPV is  0.946\n"
          ],
          "name": "stdout"
        }
      ]
    },
    {
      "cell_type": "markdown",
      "metadata": {
        "id": "VBPShM1JdQpO"
      },
      "source": [
        "#### Negative Predictive Value\n",
        "number of samples actually and predicted as  `Negative` / total number of samples predicted as `Negative`    \n",
        "![alt text](https://wikimedia.org/api/rest_v1/media/math/render/svg/b6da0f59faffbc1704974e97847ab4fa599f5521)\n"
      ]
    },
    {
      "cell_type": "code",
      "metadata": {
        "id": "qAAhCMaOdsSn",
        "outputId": "7af8d334-d0db-4e05-a641-120b8c59729d",
        "colab": {
          "base_uri": "https://localhost:8080/",
          "height": 34
        }
      },
      "source": [
        "metric = \"NPV\"\n",
        "results[metric] = TN / (TN + FN)\n",
        "print(f\"{metric} is {results[metric]: .3f}\")"
      ],
      "execution_count": 22,
      "outputs": [
        {
          "output_type": "stream",
          "text": [
            "NPV is  0.971\n"
          ],
          "name": "stdout"
        }
      ]
    },
    {
      "cell_type": "markdown",
      "metadata": {
        "id": "D6mxQtZyfIte"
      },
      "source": [
        "#### F1 score\n",
        "Harmonic Mean of Precision and Recall.  \n",
        "![alt text](https://wikimedia.org/api/rest_v1/media/math/render/svg/5663ca95d471868169c4e4ea57c936f1b6f4a588)"
      ]
    },
    {
      "cell_type": "code",
      "metadata": {
        "id": "8pNnIhEbdzFc",
        "outputId": "22be6f9e-cc66-477f-a203-587ea83f3855",
        "colab": {
          "base_uri": "https://localhost:8080/",
          "height": 195
        }
      },
      "source": [
        "metric = \"F1\"\n",
        "results[metric] = 2 / (1 / results[\"PPV\"] + 1 / results[\"TPR\"])\n",
        "print(f\"{metric} is {results[metric]: .3f}\")"
      ],
      "execution_count": 23,
      "outputs": [
        {
          "output_type": "error",
          "ename": "KeyError",
          "evalue": "ignored",
          "traceback": [
            "\u001b[0;31m---------------------------------------------------------------------------\u001b[0m",
            "\u001b[0;31mKeyError\u001b[0m                                  Traceback (most recent call last)",
            "\u001b[0;32m<ipython-input-23-98c3db7aeb11>\u001b[0m in \u001b[0;36m<module>\u001b[0;34m()\u001b[0m\n\u001b[1;32m      1\u001b[0m \u001b[0mmetric\u001b[0m \u001b[0;34m=\u001b[0m \u001b[0;34m\"F1\"\u001b[0m\u001b[0;34m\u001b[0m\u001b[0;34m\u001b[0m\u001b[0m\n\u001b[0;32m----> 2\u001b[0;31m \u001b[0mresults\u001b[0m\u001b[0;34m[\u001b[0m\u001b[0mmetric\u001b[0m\u001b[0;34m]\u001b[0m \u001b[0;34m=\u001b[0m \u001b[0;36m2\u001b[0m \u001b[0;34m/\u001b[0m \u001b[0;34m(\u001b[0m\u001b[0;36m1\u001b[0m \u001b[0;34m/\u001b[0m \u001b[0mresults\u001b[0m\u001b[0;34m[\u001b[0m\u001b[0;34m\"PPV\"\u001b[0m\u001b[0;34m]\u001b[0m \u001b[0;34m+\u001b[0m \u001b[0;36m1\u001b[0m \u001b[0;34m/\u001b[0m \u001b[0mresults\u001b[0m\u001b[0;34m[\u001b[0m\u001b[0;34m\"TPR\"\u001b[0m\u001b[0;34m]\u001b[0m\u001b[0;34m)\u001b[0m\u001b[0;34m\u001b[0m\u001b[0;34m\u001b[0m\u001b[0m\n\u001b[0m\u001b[1;32m      3\u001b[0m \u001b[0mprint\u001b[0m\u001b[0;34m(\u001b[0m\u001b[0;34mf\"{metric} is {results[metric]: .3f}\"\u001b[0m\u001b[0;34m)\u001b[0m\u001b[0;34m\u001b[0m\u001b[0;34m\u001b[0m\u001b[0m\n",
            "\u001b[0;31mKeyError\u001b[0m: 'PPV'"
          ]
        }
      ]
    },
    {
      "cell_type": "markdown",
      "metadata": {
        "id": "ZF98MS34edwA"
      },
      "source": [
        "#### Matthew's correlation coefficient\n",
        "Matthew's coefficient range between `[-1, 1]`. `0` usually means totally random predictions. `1` means a perfect classifier, while a negative value (`[-1, 0)`) suggests a negative correlation between predictions and actual values.   \n",
        "Here' the formual for MCC  \n",
        "![alt text](https://wikimedia.org/api/rest_v1/media/math/render/svg/5caa90fc15105b74b59a30bbc9cc2e5bd43a13b7)"
      ]
    },
    {
      "cell_type": "code",
      "metadata": {
        "id": "IxtxoxxmgZxI",
        "outputId": "758d4e09-7bac-4919-d99b-23ab1fed1d0a",
        "colab": {
          "base_uri": "https://localhost:8080/",
          "height": 35
        }
      },
      "source": [
        "metric = \"MCC\"\n",
        "num = TP * TN - FP * FN\n",
        "den = ((TP + FP) * (TP + FN) * (TN + FP) * (TN + FN)) ** 0.5\n",
        "results[metric] = num / den\n",
        "print(f\"{metric} is {results[metric]: .3f}\")"
      ],
      "execution_count": null,
      "outputs": [
        {
          "output_type": "stream",
          "text": [
            "MCC is  0.904\n"
          ],
          "name": "stdout"
        }
      ]
    },
    {
      "cell_type": "markdown",
      "metadata": {
        "id": "4S-Do05vg9js"
      },
      "source": [
        "### Comparing these calculated metrics\n",
        "Let's check if these values match with the values calculated from `scikit-learn`'s functions."
      ]
    },
    {
      "cell_type": "code",
      "metadata": {
        "id": "7R0RMkI0krAp",
        "outputId": "c947e0cb-1a2c-4a9e-9ca2-07c6a1c87093",
        "colab": {
          "base_uri": "https://localhost:8080/",
          "height": 104
        }
      },
      "source": [
        "print(f\"Calculated and Actual Accuracy:                          {results['ACC']: .3f}, {metrics.accuracy_score(y_test, y_preds): .3f}\")\n",
        "print(f\"Calculated and Actual Precision score:                   {results['PPV']: .3f}, {metrics.precision_score(y_test, y_preds): .3f}\")\n",
        "print(f\"Calculated and Actual Recall score:                      {results['TPR']: .3f}, {metrics.recall_score(y_test, y_preds): .3f}\")\n",
        "print(f\"Calculated and Actual F1 score:                          {results['F1']: .3f}, {metrics.f1_score(y_test, y_preds): .3f}\")\n",
        "print(f\"Calculated and Actual Matthew's correlation coefficient: {results['MCC']: .3f}, {metrics.matthews_corrcoef(y_test, y_preds): .3f}\")"
      ],
      "execution_count": null,
      "outputs": [
        {
          "output_type": "stream",
          "text": [
            "Calculated and Actual Accuracy:                           0.955,  0.955\n",
            "Calculated and Actual Precision score:                    0.946,  0.946\n",
            "Calculated and Actual Recall score:                       0.984,  0.984\n",
            "Calculated and Actual F1 score:                           0.965,  0.965\n",
            "Calculated and Actual Matthew's correlation coefficient:  0.904,  0.904\n"
          ],
          "name": "stdout"
        }
      ]
    },
    {
      "cell_type": "markdown",
      "metadata": {
        "id": "7UI7NWzcpu8p"
      },
      "source": [
        "### ROC curve (Receiver Operating Characteristic curve)\n",
        " A receiver operating characteristic curve, i.e. **ROC curve**, is a graphical plot that illustrates the diagnostic ability of a binary classifier system as its discrimination threshold is varied.  \n",
        " The ROC curve is created by plotting the **True Positive Rate (TPR)** against the **False Positive Rate (FPR)** at various threshold settings.  \n",
        " Let's plot the ROC curve for the Breast Cancer Dataset.  \n",
        " \n",
        " First we will create an ROC curve by calculating values manually at intervaled **thresholds**, then we will compare our results with the `scikit-learn`'s built-in `metrics.roc_curve`."
      ]
    },
    {
      "cell_type": "code",
      "metadata": {
        "id": "1-gXSQ_HrdnI"
      },
      "source": [
        "def get_roc_curve(y_test, y_proba, delta=0.1):\n",
        "    \"\"\"\n",
        "    Return the True Positive Rates (TPRs), False Positive Rates (FPRs), \n",
        "    and the threshold values, seperated by delta.\n",
        "    \"\"\"\n",
        "    thresh = list(np.arange(0, 1, delta)) + [1]\n",
        "    TPRs = []\n",
        "    FPRs = []\n",
        "    y_pred = np.empty(y_proba.shape)\n",
        "    for th in thresh:\n",
        "        y_pred[y_proba < th] = 0\n",
        "        y_pred[y_proba >= th] = 1\n",
        "        \n",
        "        # confusion matrix from the function we defined\n",
        "        (TN, FP), (FN, TP) = get_confusion_matrix(y_test, y_pred)\n",
        "        \n",
        "        TPR = TP / (TP + FN)  # sensitivity\n",
        "        FPR = FP / (FP + TN)  # 1 - specificity\n",
        "        TPRs.append(TPR)\n",
        "        FPRs.append(FPR)\n",
        "    return FPRs, TPRs, thresh"
      ],
      "execution_count": null,
      "outputs": []
    },
    {
      "cell_type": "markdown",
      "metadata": {
        "id": "W3iQtSMKJ63N"
      },
      "source": [
        "Here, `delta` is the difference between each of the thresholds at which ROC curve is calculated."
      ]
    },
    {
      "cell_type": "code",
      "metadata": {
        "id": "2zkIsIz31HGY"
      },
      "source": [
        "delta = 0.001\n",
        "FPRs, TPRs, _ = get_roc_curve(y_test, y_proba, delta)"
      ],
      "execution_count": null,
      "outputs": []
    },
    {
      "cell_type": "code",
      "metadata": {
        "id": "Igzm5LZDzsNZ",
        "outputId": "c0f8b0d6-6f79-4557-8d63-4b07c21e80dd",
        "colab": {
          "base_uri": "https://localhost:8080/",
          "height": 301
        }
      },
      "source": [
        "# Plot the ROC curve\n",
        "plt.plot(FPRs, TPRs, color='red',\n",
        "         lw=2, label='ROC curve')\n",
        "plt.plot([0, 1], [0, 1], color='navy', lw=2, linestyle='--', label=\"Mean\")\n",
        "plt.xlim([-0.05, 1.0])\n",
        "plt.ylim([0.0, 1.05])\n",
        "plt.xlabel('False Positive Rate')\n",
        "plt.ylabel('True Positive Rate')\n",
        "plt.title(f'ROC curve (threshold delta = {delta})')\n",
        "plt.legend(loc=\"lower right\")\n",
        "plt.show()"
      ],
      "execution_count": null,
      "outputs": [
        {
          "output_type": "display_data",
          "data": {
            "image/png": "[encoded data removed]",
            "text/plain": [
              "<Figure size 432x288 with 1 Axes>"
            ]
          },
          "metadata": {
            "tags": [],
            "needs_background": "light"
          }
        }
      ]
    },
    {
      "cell_type": "markdown",
      "metadata": {
        "id": "q6B3omej42Rk"
      },
      "source": [
        "The peak towards left-most corner means near perfect classifier, while random prediction will have the curve as the blue dotted straight line.  \n",
        "This ROC curve tells us that our model is nearly perfect classifier, with high accuracy :)"
      ]
    },
    {
      "cell_type": "markdown",
      "metadata": {
        "id": "SW550-BH5nRb"
      },
      "source": [
        "Let's calculate an ROC curve with random predictions, and plot it to see the difference."
      ]
    },
    {
      "cell_type": "code",
      "metadata": {
        "id": "o6EvFVw655bo",
        "outputId": "f8f5eab0-8296-4916-c7df-ca6397163a63",
        "colab": {
          "base_uri": "https://localhost:8080/",
          "height": 35
        }
      },
      "source": [
        "# create random predictions\n",
        "rand_proba = np.random.random(size=(y_proba.shape))\n",
        "rand_proba[:5]  # 0.5 probability of being 0 or 1"
      ],
      "execution_count": null,
      "outputs": [
        {
          "output_type": "execute_result",
          "data": {
            "text/plain": [
              "array([0.79654299, 0.18343479, 0.779691  , 0.59685016, 0.44583275])"
            ]
          },
          "metadata": {
            "tags": []
          },
          "execution_count": 29
        }
      ]
    },
    {
      "cell_type": "code",
      "metadata": {
        "id": "ZNA8dltO6itt"
      },
      "source": [
        "FPRs, TPRs, _ = get_roc_curve(y_test, rand_proba, delta)  # passing random preds"
      ],
      "execution_count": null,
      "outputs": []
    },
    {
      "cell_type": "code",
      "metadata": {
        "id": "a-MFHXue2g4C",
        "outputId": "e181c0bd-1187-486a-ac57-5060228d0ccd",
        "colab": {
          "base_uri": "https://localhost:8080/",
          "height": 301
        }
      },
      "source": [
        "# Plot the ROC curve\n",
        "plt.plot(FPRs, TPRs, color='red',\n",
        "         lw=2, label='ROC curve')\n",
        "plt.plot([0, 1], [0, 1], color='navy', lw=2, linestyle='--', label=\"Mean\")\n",
        "plt.xlim([-0.05, 1.0])\n",
        "plt.ylim([0.0, 1.05])\n",
        "plt.xlabel('False Positive Rate')\n",
        "plt.ylabel('True Positive Rate')\n",
        "plt.title(f'Random Predictions ROC curve (threshold delta = {delta})')\n",
        "plt.legend(loc=\"lower right\")\n",
        "plt.show()"
      ],
      "execution_count": null,
      "outputs": [
        {
          "output_type": "display_data",
          "data": {
            "image/png": "[encoded data removed]",
            "text/plain": [
              "<Figure size 432x288 with 1 Axes>"
            ]
          },
          "metadata": {
            "tags": [],
            "needs_background": "light"
          }
        }
      ]
    },
    {
      "cell_type": "markdown",
      "metadata": {
        "id": "JKHS-Skq-IPp"
      },
      "source": [
        "As we can see from the above plot, random predictions give the ROC curve nearly at the mean.  \n",
        "Contrast it with the previous curve, how our model has top left peak, due to its superior performance."
      ]
    },
    {
      "cell_type": "markdown",
      "metadata": {
        "id": "VOsclL50630Q"
      },
      "source": [
        "---\n",
        "Now, let's see how these curve's are similiar to the ROC curve with scikit's implementation."
      ]
    },
    {
      "cell_type": "code",
      "metadata": {
        "id": "azh7aCjE7Qid"
      },
      "source": [
        "FPRs, TPRs, _ = metrics.roc_curve(y_test, y_proba)"
      ],
      "execution_count": null,
      "outputs": []
    },
    {
      "cell_type": "code",
      "metadata": {
        "id": "L4-Eric87exv",
        "outputId": "7d3aaa0f-ffad-4620-f066-cf1314ede66a",
        "colab": {
          "base_uri": "https://localhost:8080/",
          "height": 301
        }
      },
      "source": [
        "# Plot the ROC curve\n",
        "plt.plot(FPRs, TPRs, color='red',\n",
        "         lw=2, label='ROC curve')\n",
        "plt.plot([0, 1], [0, 1], color='navy', lw=2, linestyle='--', label=\"Mean\")\n",
        "plt.xlim([-0.05, 1.0])\n",
        "plt.ylim([0.0, 1.05])\n",
        "plt.xlabel('False Positive Rate')\n",
        "plt.ylabel('True Positive Rate')\n",
        "plt.title(\"Scikit-learn's ROC curve\")\n",
        "plt.legend(loc=\"lower right\")\n",
        "plt.show()"
      ],
      "execution_count": null,
      "outputs": [
        {
          "output_type": "display_data",
          "data": {
            "image/png": "[encoded data removed]",
            "text/plain": [
              "<Figure size 432x288 with 1 Axes>"
            ]
          },
          "metadata": {
            "tags": [],
            "needs_background": "light"
          }
        }
      ]
    },
    {
      "cell_type": "code",
      "metadata": {
        "id": "OHTRMD-57xM6"
      },
      "source": [
        "FPRs, TPRs, _ = metrics.roc_curve(y_test, rand_proba)  # passing random preds"
      ],
      "execution_count": null,
      "outputs": []
    },
    {
      "cell_type": "code",
      "metadata": {
        "id": "xYr2nKQm7yKI",
        "outputId": "6715b05f-f162-415e-8cd1-77da3eb6c992",
        "colab": {
          "base_uri": "https://localhost:8080/",
          "height": 301
        }
      },
      "source": [
        "# Plot the ROC curve\n",
        "plt.plot(FPRs, TPRs, color='red',\n",
        "         lw=2, label='ROC curve')\n",
        "plt.plot([0, 1], [0, 1], color='navy', lw=2, linestyle='--', label=\"Mean\")\n",
        "plt.xlim([-0.05, 1.0])\n",
        "plt.ylim([0.0, 1.05])\n",
        "plt.xlabel('False Positive Rate')\n",
        "plt.ylabel('True Positive Rate')\n",
        "plt.title(\"Scikit-learn's Random Predictions ROC curve\")\n",
        "plt.legend(loc=\"lower right\")\n",
        "plt.show()"
      ],
      "execution_count": null,
      "outputs": [
        {
          "output_type": "display_data",
          "data": {
            "image/png": "[encoded data removed]",
            "text/plain": [
              "<Figure size 432x288 with 1 Axes>"
            ]
          },
          "metadata": {
            "tags": [],
            "needs_background": "light"
          }
        }
      ]
    },
    {
      "cell_type": "markdown",
      "metadata": {
        "id": "wcQXLrk68FC1"
      },
      "source": [
        "### ROC-AUC score\n",
        "Now, that we know about ROC curve, what it represents, **AUC score** is very easy to understand.  \n",
        "AUC stands for **Area under the Curve**, which is nothing but the area under the ROC curve formed by the predictions.  \n",
        "As we saw, a totally random prediction will have AUC score `0.5`, while a perfect classifier will have AUC score of `1`. "
      ]
    },
    {
      "cell_type": "markdown",
      "metadata": {
        "id": "JETH5mgtIs9Y"
      },
      "source": [
        "Lets check the AUC score of our model."
      ]
    },
    {
      "cell_type": "code",
      "metadata": {
        "id": "pQmvuU9AKUvm",
        "outputId": "d5520997-22d0-4fc6-db0a-5f443fcd57f6",
        "colab": {
          "base_uri": "https://localhost:8080/",
          "height": 35
        }
      },
      "source": [
        "auc_score = metrics.roc_auc_score(y_test, y_proba)\n",
        "print(f\"Scikit's ROC-AUC score of SVC model is {auc_score: .4f}\")"
      ],
      "execution_count": null,
      "outputs": [
        {
          "output_type": "stream",
          "text": [
            "Scikit's ROC-AUC score of SVC model is  0.9872\n"
          ],
          "name": "stdout"
        }
      ]
    },
    {
      "cell_type": "markdown",
      "metadata": {
        "id": "IJFx9ubwddpn"
      },
      "source": [
        "We can also calculate the **ROC-AUC score** by summing up the areas under each observation of FPRs and TPRs."
      ]
    },
    {
      "cell_type": "code",
      "metadata": {
        "id": "cyx-Y4nPd6oL"
      },
      "source": [
        "def get_roc_auc_score(y_test, y_proba):\n",
        "    \n",
        "    # use the function get_roc_curve that we created.\n",
        "    FPRs, TPRs, _ = get_roc_curve(y_test, y_proba)\n",
        "    FPRs.reverse()\n",
        "    TPRs.reverse()\n",
        "    x1, y1 = FPRs[0], TPRs[0]\n",
        "    auc = 0.0\n",
        "    prev = 0.0\n",
        "    # cumulative differences in x-axis\n",
        "    diffs = [FPRs[i] - FPRs[i-1] for i in range(1, len(FPRs))]\n",
        "    for x, y in zip(diffs, TPRs[1:]):\n",
        "        auc += (x * y1)  # area of rectangle\n",
        "        auc += (x * (y - y1)/2)  # area of triangle formed (if any)\n",
        "        y1 = y\n",
        "    return auc"
      ],
      "execution_count": null,
      "outputs": []
    },
    {
      "cell_type": "code",
      "metadata": {
        "id": "pqucApZPjn9H",
        "outputId": "177e340b-e52a-427b-c9e4-01ea3f78e973",
        "colab": {
          "base_uri": "https://localhost:8080/",
          "height": 35
        }
      },
      "source": [
        "auc_score = get_roc_auc_score(y_test, y_proba)\n",
        "print(f\"Our ROC-AUC score of SVC model is {auc_score: .4f}\")"
      ],
      "execution_count": null,
      "outputs": [
        {
          "output_type": "stream",
          "text": [
            "Our ROC-AUC score of SVC model is  0.9870\n"
          ],
          "name": "stdout"
        }
      ]
    },
    {
      "cell_type": "markdown",
      "metadata": {
        "id": "54g1PC2jK0MS"
      },
      "source": [
        "This is a good ROC-AUC score as we expected. (Also pretty close to Scikit's implementation).  \n",
        "Lets try the ROC-AUC score of random predictions."
      ]
    },
    {
      "cell_type": "code",
      "metadata": {
        "id": "p0970PIaLBYj",
        "outputId": "ee747b60-afcc-4e3a-fc54-96cb563146ef",
        "colab": {
          "base_uri": "https://localhost:8080/",
          "height": 52
        }
      },
      "source": [
        "auc_score = metrics.roc_auc_score(y_test, rand_proba)\n",
        "print(f\"Scikit's ROC-AUC score of random predictions is: {auc_score: .4f}\")\n",
        "auc_score = get_roc_auc_score(y_test, rand_proba)\n",
        "print(f\"Our ROC-AUC score of random predictions is:      {auc_score: .4f}\")"
      ],
      "execution_count": null,
      "outputs": [
        {
          "output_type": "stream",
          "text": [
            "Scikit's ROC-AUC score of random predictions is:  0.5111\n",
            "Our ROC-AUC score of random predictions is:       0.5080\n"
          ],
          "name": "stdout"
        }
      ]
    },
    {
      "cell_type": "markdown",
      "metadata": {
        "id": "Ara7jLPbLPXQ"
      },
      "source": [
        "As expected, it is close to `0.5`.  \n",
        "(The minor differences are due to different granularity of thresholds chosen by us, and in Scikit's implementation. )"
      ]
    }
  ]
}